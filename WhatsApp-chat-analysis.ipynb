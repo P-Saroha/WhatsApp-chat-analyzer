{
 "cells": [
  {
   "cell_type": "code",
   "execution_count": 42,
   "id": "134fee5f-ff9f-43fb-9123-2e1eb89b6a9a",
   "metadata": {},
   "outputs": [],
   "source": [
    "import numpy as np\n",
    "import pandas as pd\n",
    "import re\n",
    "from datetime import datetime"
   ]
  },
  {
   "cell_type": "code",
   "execution_count": 43,
   "id": "8d1e902a-2ec9-43f1-9abb-32ac64b962c5",
   "metadata": {},
   "outputs": [],
   "source": [
    "f = open(\"WhatsApp Chat with Kanishka/WhatsApp Chat with Kanishka.txt\",'r', encoding='utf-8')"
   ]
  },
  {
   "cell_type": "code",
   "execution_count": 44,
   "id": "e9c73b85-ef2e-46aa-a98f-1b508a437b93",
   "metadata": {},
   "outputs": [],
   "source": [
    "data = f.read()"
   ]
  },
  {
   "cell_type": "code",
   "execution_count": 45,
   "id": "cad1e2f1-2c76-4b5c-905a-01ec085bfea4",
   "metadata": {},
   "outputs": [],
   "source": [
    "# Define pattern for timestamps\n",
    "pattern = r\"(\\d{1,2}/\\d{1,2}/\\d{4}), (\\d{1,2}:\\d{2}) - (.+)\""
   ]
  },
  {
   "cell_type": "code",
   "execution_count": 46,
   "id": "b652b806-7d92-465b-ac2d-3f72949e479a",
   "metadata": {},
   "outputs": [],
   "source": [
    "# data_lines = data.split(\"\\n\")  # Split by lines\n",
    "# print(\"Total lines in file:\", len(data_lines))\n"
   ]
  },
  {
   "cell_type": "code",
   "execution_count": 47,
   "id": "7e05290c-b115-4674-a319-a3e77948dd66",
   "metadata": {},
   "outputs": [],
   "source": [
    "# Extract all matches\n",
    "matches = re.findall(pattern, data)"
   ]
  },
  {
   "cell_type": "code",
   "execution_count": 48,
   "id": "3913b644-d699-43ca-9437-c8e982288ef4",
   "metadata": {},
   "outputs": [],
   "source": [
    "# Lists to store extracted data\n",
    "datetimes = []\n",
    "users = []\n",
    "messages = []\n",
    "\n",
    "\n",
    "for match in matches:\n",
    "    date_part, time_part, msg = match  # Unpacking the tuple\n",
    "    \n",
    "    # Split user and message\n",
    "    split_msg = msg.split(\": \", 1)  # Splitting on first ': ' to separate user and message\n",
    "    if len(split_msg) == 2:\n",
    "        user, message = split_msg\n",
    "    else:\n",
    "        user = \"Unknown\"  # Handle system messages\n",
    "        message = split_msg[0]\n",
    "\n",
    "    #  **Filter out system messages**\n",
    "    if \"Messages and calls are end-to-end encrypted\" in message:\n",
    "        continue  # Skip encryption messages\n",
    "\n",
    "    # Correct datetime conversion\n",
    "    formatted_datetime = datetime.strptime(f\"{date_part} {time_part}\", \"%d/%m/%Y %H:%M\")\n",
    "\n",
    "    # Append to lists\n",
    "    datetimes.append(formatted_datetime)\n",
    "    users.append(user)\n",
    "    messages.append(message)\n"
   ]
  },
  {
   "cell_type": "code",
   "execution_count": 49,
   "id": "1fb42a05-209b-4436-a832-39dabd0c7c7a",
   "metadata": {},
   "outputs": [],
   "source": [
    "chat_df = pd.DataFrame({\n",
    "    \"datetime\": datetimes,  \n",
    "    \"user\": users,          \n",
    "    \"message\": messages     \n",
    "})\n"
   ]
  },
  {
   "cell_type": "code",
   "execution_count": 50,
   "id": "0944d02e-503e-45bf-8750-a6abac1ee8db",
   "metadata": {},
   "outputs": [
    {
     "name": "stdout",
     "output_type": "stream",
     "text": [
      "             datetime      user  \\\n",
      "0 2024-04-27 19:30:00   Unknown   \n",
      "1 2024-04-27 19:30:00  Kanishka   \n",
      "2 2024-04-27 19:30:00  Kanishka   \n",
      "3 2024-04-27 19:30:00         .   \n",
      "4 2024-04-27 19:31:00         .   \n",
      "5 2024-04-27 19:31:00  Kanishka   \n",
      "6 2024-04-27 19:33:00  Kanishka   \n",
      "7 2024-04-27 19:33:00  Kanishka   \n",
      "8 2024-04-27 19:36:00         .   \n",
      "9 2024-04-27 19:36:00  Kanishka   \n",
      "\n",
      "                                             message  \n",
      "0                              Kanishka is a contact  \n",
      "1  Maine vo img delete krdi thi phn se send it again  \n",
      "2                  Talking about this jispe tag kiya  \n",
      "3                                               ruko  \n",
      "4                                    <Media omitted>  \n",
      "5                                       Ok dekhti hu  \n",
      "6                     Poora question sirf yehi h kya  \n",
      "7                                      No statement?  \n",
      "8                                      ruko bhej rha  \n",
      "9                                                okk  \n"
     ]
    }
   ],
   "source": [
    "print(chat_df.head(10))  \n"
   ]
  },
  {
   "cell_type": "code",
   "execution_count": 51,
   "id": "13d4b31d-ad3a-42b2-a680-ef2ef873c75d",
   "metadata": {},
   "outputs": [
    {
     "data": {
      "text/html": [
       "<div>\n",
       "<style scoped>\n",
       "    .dataframe tbody tr th:only-of-type {\n",
       "        vertical-align: middle;\n",
       "    }\n",
       "\n",
       "    .dataframe tbody tr th {\n",
       "        vertical-align: top;\n",
       "    }\n",
       "\n",
       "    .dataframe thead th {\n",
       "        text-align: right;\n",
       "    }\n",
       "</style>\n",
       "<table border=\"1\" class=\"dataframe\">\n",
       "  <thead>\n",
       "    <tr style=\"text-align: right;\">\n",
       "      <th></th>\n",
       "      <th>datetime</th>\n",
       "      <th>user</th>\n",
       "      <th>message</th>\n",
       "    </tr>\n",
       "  </thead>\n",
       "  <tbody>\n",
       "    <tr>\n",
       "      <th>0</th>\n",
       "      <td>2024-04-27 19:30:00</td>\n",
       "      <td>Unknown</td>\n",
       "      <td>Kanishka is a contact</td>\n",
       "    </tr>\n",
       "    <tr>\n",
       "      <th>1</th>\n",
       "      <td>2024-04-27 19:30:00</td>\n",
       "      <td>Kanishka</td>\n",
       "      <td>Maine vo img delete krdi thi phn se send it again</td>\n",
       "    </tr>\n",
       "    <tr>\n",
       "      <th>2</th>\n",
       "      <td>2024-04-27 19:30:00</td>\n",
       "      <td>Kanishka</td>\n",
       "      <td>Talking about this jispe tag kiya</td>\n",
       "    </tr>\n",
       "    <tr>\n",
       "      <th>3</th>\n",
       "      <td>2024-04-27 19:30:00</td>\n",
       "      <td>.</td>\n",
       "      <td>ruko</td>\n",
       "    </tr>\n",
       "    <tr>\n",
       "      <th>4</th>\n",
       "      <td>2024-04-27 19:31:00</td>\n",
       "      <td>.</td>\n",
       "      <td>&lt;Media omitted&gt;</td>\n",
       "    </tr>\n",
       "  </tbody>\n",
       "</table>\n",
       "</div>"
      ],
      "text/plain": [
       "             datetime      user  \\\n",
       "0 2024-04-27 19:30:00   Unknown   \n",
       "1 2024-04-27 19:30:00  Kanishka   \n",
       "2 2024-04-27 19:30:00  Kanishka   \n",
       "3 2024-04-27 19:30:00         .   \n",
       "4 2024-04-27 19:31:00         .   \n",
       "\n",
       "                                             message  \n",
       "0                              Kanishka is a contact  \n",
       "1  Maine vo img delete krdi thi phn se send it again  \n",
       "2                  Talking about this jispe tag kiya  \n",
       "3                                               ruko  \n",
       "4                                    <Media omitted>  "
      ]
     },
     "execution_count": 51,
     "metadata": {},
     "output_type": "execute_result"
    }
   ],
   "source": [
    "chat_df.head()"
   ]
  },
  {
   "cell_type": "code",
   "execution_count": 52,
   "id": "e9524f03-d0ba-4f22-afab-67170aa9021a",
   "metadata": {},
   "outputs": [],
   "source": [
    "chat_df['user'] = chat_df['user'].replace('.', 'PK')\n"
   ]
  },
  {
   "cell_type": "code",
   "execution_count": 53,
   "id": "ec77d12b-ba6b-4842-91c5-4390b151eca8",
   "metadata": {},
   "outputs": [
    {
     "data": {
      "text/html": [
       "<div>\n",
       "<style scoped>\n",
       "    .dataframe tbody tr th:only-of-type {\n",
       "        vertical-align: middle;\n",
       "    }\n",
       "\n",
       "    .dataframe tbody tr th {\n",
       "        vertical-align: top;\n",
       "    }\n",
       "\n",
       "    .dataframe thead th {\n",
       "        text-align: right;\n",
       "    }\n",
       "</style>\n",
       "<table border=\"1\" class=\"dataframe\">\n",
       "  <thead>\n",
       "    <tr style=\"text-align: right;\">\n",
       "      <th></th>\n",
       "      <th>datetime</th>\n",
       "      <th>user</th>\n",
       "      <th>message</th>\n",
       "    </tr>\n",
       "  </thead>\n",
       "  <tbody>\n",
       "    <tr>\n",
       "      <th>0</th>\n",
       "      <td>2024-04-27 19:30:00</td>\n",
       "      <td>Unknown</td>\n",
       "      <td>Kanishka is a contact</td>\n",
       "    </tr>\n",
       "    <tr>\n",
       "      <th>1</th>\n",
       "      <td>2024-04-27 19:30:00</td>\n",
       "      <td>Kanishka</td>\n",
       "      <td>Maine vo img delete krdi thi phn se send it again</td>\n",
       "    </tr>\n",
       "    <tr>\n",
       "      <th>2</th>\n",
       "      <td>2024-04-27 19:30:00</td>\n",
       "      <td>Kanishka</td>\n",
       "      <td>Talking about this jispe tag kiya</td>\n",
       "    </tr>\n",
       "    <tr>\n",
       "      <th>3</th>\n",
       "      <td>2024-04-27 19:30:00</td>\n",
       "      <td>PK</td>\n",
       "      <td>ruko</td>\n",
       "    </tr>\n",
       "    <tr>\n",
       "      <th>4</th>\n",
       "      <td>2024-04-27 19:31:00</td>\n",
       "      <td>PK</td>\n",
       "      <td>&lt;Media omitted&gt;</td>\n",
       "    </tr>\n",
       "    <tr>\n",
       "      <th>5</th>\n",
       "      <td>2024-04-27 19:31:00</td>\n",
       "      <td>Kanishka</td>\n",
       "      <td>Ok dekhti hu</td>\n",
       "    </tr>\n",
       "    <tr>\n",
       "      <th>6</th>\n",
       "      <td>2024-04-27 19:33:00</td>\n",
       "      <td>Kanishka</td>\n",
       "      <td>Poora question sirf yehi h kya</td>\n",
       "    </tr>\n",
       "    <tr>\n",
       "      <th>7</th>\n",
       "      <td>2024-04-27 19:33:00</td>\n",
       "      <td>Kanishka</td>\n",
       "      <td>No statement?</td>\n",
       "    </tr>\n",
       "    <tr>\n",
       "      <th>8</th>\n",
       "      <td>2024-04-27 19:36:00</td>\n",
       "      <td>PK</td>\n",
       "      <td>ruko bhej rha</td>\n",
       "    </tr>\n",
       "    <tr>\n",
       "      <th>9</th>\n",
       "      <td>2024-04-27 19:36:00</td>\n",
       "      <td>Kanishka</td>\n",
       "      <td>okk</td>\n",
       "    </tr>\n",
       "  </tbody>\n",
       "</table>\n",
       "</div>"
      ],
      "text/plain": [
       "             datetime      user  \\\n",
       "0 2024-04-27 19:30:00   Unknown   \n",
       "1 2024-04-27 19:30:00  Kanishka   \n",
       "2 2024-04-27 19:30:00  Kanishka   \n",
       "3 2024-04-27 19:30:00        PK   \n",
       "4 2024-04-27 19:31:00        PK   \n",
       "5 2024-04-27 19:31:00  Kanishka   \n",
       "6 2024-04-27 19:33:00  Kanishka   \n",
       "7 2024-04-27 19:33:00  Kanishka   \n",
       "8 2024-04-27 19:36:00        PK   \n",
       "9 2024-04-27 19:36:00  Kanishka   \n",
       "\n",
       "                                             message  \n",
       "0                              Kanishka is a contact  \n",
       "1  Maine vo img delete krdi thi phn se send it again  \n",
       "2                  Talking about this jispe tag kiya  \n",
       "3                                               ruko  \n",
       "4                                    <Media omitted>  \n",
       "5                                       Ok dekhti hu  \n",
       "6                     Poora question sirf yehi h kya  \n",
       "7                                      No statement?  \n",
       "8                                      ruko bhej rha  \n",
       "9                                                okk  "
      ]
     },
     "execution_count": 53,
     "metadata": {},
     "output_type": "execute_result"
    }
   ],
   "source": [
    "chat_df.head(10)"
   ]
  },
  {
   "cell_type": "code",
   "execution_count": 54,
   "id": "d1943020-c42b-473e-9267-850ee8742fd2",
   "metadata": {},
   "outputs": [
    {
     "data": {
      "text/plain": [
       "(37964, 3)"
      ]
     },
     "execution_count": 54,
     "metadata": {},
     "output_type": "execute_result"
    }
   ],
   "source": [
    "chat_df.shape"
   ]
  },
  {
   "cell_type": "code",
   "execution_count": 55,
   "id": "5af61474-634f-41e9-8cf5-c5e7ccb1b6f2",
   "metadata": {},
   "outputs": [],
   "source": [
    "chat_df['year'] = chat_df['datetime'].dt.year"
   ]
  },
  {
   "cell_type": "code",
   "execution_count": 56,
   "id": "8f123375-108c-4648-981c-fa2245df9c9e",
   "metadata": {},
   "outputs": [],
   "source": [
    "chat_df['month'] = chat_df['datetime'].dt.month_name()"
   ]
  },
  {
   "cell_type": "code",
   "execution_count": 57,
   "id": "3aa5aeb4-3fe5-48cc-9c0f-6ac1396a00c3",
   "metadata": {},
   "outputs": [],
   "source": [
    "chat_df['day'] = chat_df['datetime'].dt.day"
   ]
  },
  {
   "cell_type": "code",
   "execution_count": 58,
   "id": "4d298c91-e4fc-47c6-95f3-42bf2e365cc3",
   "metadata": {},
   "outputs": [],
   "source": [
    "chat_df['hours'] = chat_df['datetime'].dt.hour"
   ]
  },
  {
   "cell_type": "code",
   "execution_count": 59,
   "id": "e21fe920-9a57-4a6f-9769-62aafc03352e",
   "metadata": {},
   "outputs": [],
   "source": [
    "chat_df['minute'] = chat_df['datetime'].dt.minute"
   ]
  },
  {
   "cell_type": "code",
   "execution_count": 60,
   "id": "23759f1e-d526-48d4-9633-a9d0506ca25e",
   "metadata": {},
   "outputs": [
    {
     "data": {
      "text/html": [
       "<div>\n",
       "<style scoped>\n",
       "    .dataframe tbody tr th:only-of-type {\n",
       "        vertical-align: middle;\n",
       "    }\n",
       "\n",
       "    .dataframe tbody tr th {\n",
       "        vertical-align: top;\n",
       "    }\n",
       "\n",
       "    .dataframe thead th {\n",
       "        text-align: right;\n",
       "    }\n",
       "</style>\n",
       "<table border=\"1\" class=\"dataframe\">\n",
       "  <thead>\n",
       "    <tr style=\"text-align: right;\">\n",
       "      <th></th>\n",
       "      <th>datetime</th>\n",
       "      <th>user</th>\n",
       "      <th>message</th>\n",
       "      <th>year</th>\n",
       "      <th>month</th>\n",
       "      <th>day</th>\n",
       "      <th>hours</th>\n",
       "      <th>minute</th>\n",
       "    </tr>\n",
       "  </thead>\n",
       "  <tbody>\n",
       "    <tr>\n",
       "      <th>0</th>\n",
       "      <td>2024-04-27 19:30:00</td>\n",
       "      <td>Unknown</td>\n",
       "      <td>Kanishka is a contact</td>\n",
       "      <td>2024</td>\n",
       "      <td>April</td>\n",
       "      <td>27</td>\n",
       "      <td>19</td>\n",
       "      <td>30</td>\n",
       "    </tr>\n",
       "    <tr>\n",
       "      <th>1</th>\n",
       "      <td>2024-04-27 19:30:00</td>\n",
       "      <td>Kanishka</td>\n",
       "      <td>Maine vo img delete krdi thi phn se send it again</td>\n",
       "      <td>2024</td>\n",
       "      <td>April</td>\n",
       "      <td>27</td>\n",
       "      <td>19</td>\n",
       "      <td>30</td>\n",
       "    </tr>\n",
       "    <tr>\n",
       "      <th>2</th>\n",
       "      <td>2024-04-27 19:30:00</td>\n",
       "      <td>Kanishka</td>\n",
       "      <td>Talking about this jispe tag kiya</td>\n",
       "      <td>2024</td>\n",
       "      <td>April</td>\n",
       "      <td>27</td>\n",
       "      <td>19</td>\n",
       "      <td>30</td>\n",
       "    </tr>\n",
       "    <tr>\n",
       "      <th>3</th>\n",
       "      <td>2024-04-27 19:30:00</td>\n",
       "      <td>PK</td>\n",
       "      <td>ruko</td>\n",
       "      <td>2024</td>\n",
       "      <td>April</td>\n",
       "      <td>27</td>\n",
       "      <td>19</td>\n",
       "      <td>30</td>\n",
       "    </tr>\n",
       "    <tr>\n",
       "      <th>4</th>\n",
       "      <td>2024-04-27 19:31:00</td>\n",
       "      <td>PK</td>\n",
       "      <td>&lt;Media omitted&gt;</td>\n",
       "      <td>2024</td>\n",
       "      <td>April</td>\n",
       "      <td>27</td>\n",
       "      <td>19</td>\n",
       "      <td>31</td>\n",
       "    </tr>\n",
       "  </tbody>\n",
       "</table>\n",
       "</div>"
      ],
      "text/plain": [
       "             datetime      user  \\\n",
       "0 2024-04-27 19:30:00   Unknown   \n",
       "1 2024-04-27 19:30:00  Kanishka   \n",
       "2 2024-04-27 19:30:00  Kanishka   \n",
       "3 2024-04-27 19:30:00        PK   \n",
       "4 2024-04-27 19:31:00        PK   \n",
       "\n",
       "                                             message  year  month  day  hours  \\\n",
       "0                              Kanishka is a contact  2024  April   27     19   \n",
       "1  Maine vo img delete krdi thi phn se send it again  2024  April   27     19   \n",
       "2                  Talking about this jispe tag kiya  2024  April   27     19   \n",
       "3                                               ruko  2024  April   27     19   \n",
       "4                                    <Media omitted>  2024  April   27     19   \n",
       "\n",
       "   minute  \n",
       "0      30  \n",
       "1      30  \n",
       "2      30  \n",
       "3      30  \n",
       "4      31  "
      ]
     },
     "execution_count": 60,
     "metadata": {},
     "output_type": "execute_result"
    }
   ],
   "source": [
    "chat_df.head()"
   ]
  },
  {
   "cell_type": "code",
   "execution_count": 63,
   "id": "9071017a-f202-4c88-a04b-2a8caf423c12",
   "metadata": {},
   "outputs": [],
   "source": [
    "from urlextract import URLExtract\n",
    "extractor = URLExtract()\n",
    "links = []\n",
    "\n",
    "for message in chat_df['message']:\n",
    "    links.extend(extractor.find_urls(message))\n"
   ]
  },
  {
   "cell_type": "code",
   "execution_count": null,
   "id": "fad53164-6d16-4299-b6c5-a5012c752293",
   "metadata": {},
   "outputs": [],
   "source": [
    "# !pip install urlextract"
   ]
  },
  {
   "cell_type": "code",
   "execution_count": 64,
   "id": "cff190f7-1436-468e-b2b4-46deae663a35",
   "metadata": {},
   "outputs": [
    {
     "data": {
      "text/plain": [
       "['https://www.youtube.com/watch?v=m5iGcEWi8L4',\n",
       " 'https://seek.onlinedegree.iitm.ac.in/courses/ns_24t2_cs2008p?id=9&type=lesson&tab=courses&unitId=5',\n",
       " 'that.In',\n",
       " 'https://youtu.be/iw0WcBNUtro?feature=shared',\n",
       " 'https://github.com/sachin3098/MLP-project-Last-term/blob/main/Code/colab%20notebook.ipynb',\n",
       " 'https://colab.research.google.com/drive/1VHcPMg9RaAAFKJewxZ16NSm41iwDvFWV?usp=drive_link',\n",
       " 'https://colab.research.google.com/drive/1n9w2hlEAy3EcdJjMQd_DB4ngCZPI9x3P?usp=drive_link',\n",
       " 'https://www.kaggle.com/code/mmanasdora/21f1000406-notebook-t22024',\n",
       " 'https://docs.google.com/spreadsheets/d/e/2PACX-1vRF2AO6l_B1jI0bKx1qRMMzi9mFnM8uYkb3LIt0urvTQ6iUweEmkXwAzAKJGvXCcLoQ8XXTgPnFoT0L/pubhtml?gid=0&single=true',\n",
       " 'https://docs.google.com/spreadsheets/u/0/d/e/2PACX-1vTCy8keGv4ZmIw1KzODkqu0gEyBBZVMh6TI3T80ymnaexAg8C7_775Cg0fggFDuPODvfZpLiOBnFIYw/pubhtml?gid=0&single=true',\n",
       " 'https://mlp-viva-workflow-z5snvc5h3q-el.a.run.app/student/',\n",
       " 'https://docs.google.com/spreadsheets/d/1TpmHPHDkyTSjIHHuNn2pqRlXuYomsFuBi0JhYihdyYQ/edit?usp=sharing',\n",
       " 'https://www.youtube.com/@uryogi0/featured',\n",
       " 'https://youtu.be/fZ_MsQYodSo?si=noc-ECg0-pF_3llS',\n",
       " 'https://youtu.be/pIWHXPkt7Hc?si=uLKt9Z_ZflMPfYyq',\n",
       " 'https://youtu.be/LlI7k3knBqg?si=8LskLosXdM_3UmaO',\n",
       " 'https://youtu.be/oOi3oJmfz4o?feature=shared',\n",
       " 'https://www.youtube.com/watch?v=oOi3oJmfz4o&list=RDoOi3oJmfz4o&start_radio=1&rv=oOi3oJmfz4o&t=3',\n",
       " 'https://www.youtube.com/watch?v=e9dZQelULDk',\n",
       " 'https://www.youtube.com/watch?v=-kT5yvSe4Ig',\n",
       " 'https://chatgpt.com/share/32da5bff-98d3-4dc6-b884-00e875bb952c',\n",
       " 'https://meet.google.com/syw-gyrj-zyo',\n",
       " 'https://github.com/Aka-sh11',\n",
       " 'https://www.youtube.com/watch?v=F_czeYFLqGU',\n",
       " 'https://youtu.be/MSBMfhGU8H0?si=W2vc9d8kvRm-wUCn',\n",
       " 'https://youtu.be/VOgc2fjxZqU?si=YDRhs_tO1uzBmKpH',\n",
       " 'https://youtu.be/C4GGx--QFr8?si=OlzsWmLGSKsRfUG8',\n",
       " 'https://docs.google.com/spreadsheets/d/1TpmHPHDkyTSjIHHuNn2pqRlXuYomsFuBi0JhYihdyYQ/edit?usp=sharing',\n",
       " 'https://colab.research.google.com/drive/19S1tGgfYkBAtLpk5tV0zm45GGi4zM9N4#scrollTo=FAis651A-c-g',\n",
       " 'https://youtu.be/F_czeYFLqGU?feature=shared',\n",
       " 'https://youtu.be/8FMz_KT1mC4?feature=shared',\n",
       " 'https://docs.google.com/document/d/1SEG4O5mg2R3bPhKhQUzcCwGujnaXVvFzsZdh8cDOWoE/edit?usp=sharing',\n",
       " 'https://unstop.com/hackathons/amazon-ml-challenge-amazon-1100713?lb=NcRhAyg',\n",
       " 'https://www.goldmansachs.com/careers/students/programs-and-internships/india/engineers-campus-hiring-program',\n",
       " 'https://www.youtube.com/@madi6496/playlists',\n",
       " 'https://youtu.be/_3ddPL8gpWk?si=n39VWGAnA0xKAD4M',\n",
       " 'https://discourse.onlinedegree.iitm.ac.in/c/courses/mlpp/52',\n",
       " 'https://chatgpt.com/share/66e3ebe1-164c-8006-aaee-281555ddfadd',\n",
       " 'https://www.youtube.com/shorts/Z7Swn2FyrVQ',\n",
       " 'https://www.youtube.com/shorts/cnETsZzFjM0',\n",
       " 'https://youtube.com/shorts/Yd8jc9He-jw?si=fuQXD1bCdza5fzje',\n",
       " 'https://youtu.be/ZU1oJJq_Wh0?si=YKQf3pQ4MJA-AR8Q',\n",
       " 'https://drive.google.com/file/d/1c21chKgdPQ8oIHVYL9kU_Y9AMW-kMYnL/view?usp=sharing',\n",
       " 'https://youtube.com/shorts/FfuN1_HWYus?si=m0FbUMj4p0u1PXfp',\n",
       " 'https://colab.research.google.com/drive/1hxJPYPIeLwKgKnqmIhmCctEy70SpNbfB?usp=sharing',\n",
       " 'https://youtube.com/playlist?list=PLAhdwKzwjRu1BzXUWL_Gtx4lYjhgoa5ed&si=rpArigxGqByk7yFU',\n",
       " 'https://www.youtube.com/watch?v=-L3IUoE9A_0&list=PLinT_qjAT3ozGQgNYRARcjYLxlRkcLoQI&index=2',\n",
       " 'https://youtu.be/FTnvSTsof4s?si=tBWmZrhTbBe9_PC4',\n",
       " 'https://drive.google.com/file/d/1wVyYXzl3WGGWFjKYAsgexYdfaFrY9WD2/view?usp=sharing',\n",
       " 'https://youtu.be/XsrR-lmKgic?si=jMnrKDMZtt2Zsu1J',\n",
       " 'https://youtu.be/wnJ6LuUFpMo?feature=shared',\n",
       " 'https://youtube.com/shorts/urpyVqM8RbA?feature=shared',\n",
       " 'https://meet.google.com/sih-tcjv-qsb',\n",
       " 'https://www.youtube.com/playlist?list=PLozu4Wsx54pGC0EfN14uXbpqfiPzBwNhO',\n",
       " 'https://chatgpt.com/share/67068f82-ebcc-8004-80db-af5216b6bcff',\n",
       " 'extensions.py',\n",
       " 'app.py',\n",
       " 'https://youtu.be/hQCCkSumhbo?si=bOXRaj419aQsH8BL',\n",
       " 'app.py',\n",
       " 'models.py',\n",
       " 'https://youtube.com/shorts/1-fY9u2ZPn8?si=nlBPC1s9RQ_IIWz0',\n",
       " 'https://www.youtube.com/@uryogi0',\n",
       " 'https://youtube.com/playlist?list=PLZdbwfwUZyiiAw8IM2sdv0f2qnzW18T6q&si=LBugedaQRhEynDo_',\n",
       " 'https://youtube.com/playlist?list=PL4cUxeGkcC9iCKx06qSncuvEPZ7x1UnKD&si=b6RwVDUuWal4huMV',\n",
       " 'https://youtu.be/ZuH8QXNDkBo?si=jVCDdJMaXqVkN_DS',\n",
       " 'https://youtube.com/playlist?list=PL8p2I9GklV45e7L_qC_mntM7FhSIV8pqa&si=WnvB_KreLGuZdRn7',\n",
       " 'https://www.youtube.com/shorts/7OMd8HC5hIs',\n",
       " 'https://www.youtube.com/shorts/wullFMvDlCU',\n",
       " 'https://drive.google.com/file/d/1MxJ37x3xbTPhhlMGdD8nA4iCS8PCnm7c/view?usp=sharing',\n",
       " 'https://www.youtube.com/shorts/qER6HZ93T5M',\n",
       " 'https://meet.google.com/tsd-vomc-ckq',\n",
       " 'https://youtu.be/1CH8nUaA54c?si=-FUuDXuViJSEsIIL',\n",
       " 'House-hold.zip',\n",
       " 'https://chatgpt.com/share/6743f58a-0068-800e-978d-442f9b2b732d',\n",
       " 'https://www.youtube.com/live/n_nBJ1gSN_A?si=fkIgSkog5NIu80Qs',\n",
       " 'route.py',\n",
       " 'https://docs.google.com/document/d/13mdY_pVZzZVMpV288K9LOn1XPx2yRaZSWYR5MTZqjwc/edit?usp=sharing',\n",
       " 'https://youtu.be/kTcmbZqNiGw?si=8TvpLa3XyHGy9q2U',\n",
       " 'https://www.youtube.com/watch?v=_XBVWlI8TsQ',\n",
       " 'https://youtu.be/FTnvSTsof4s?si=tBWmZrhTbBe9_PC4',\n",
       " 'https://meet.google.com/gez-dnix-tka',\n",
       " 'config.py',\n",
       " 'https://www.meesho.com/stylish-mens-sweatshirt-latest-stylish/p/5eg7hd',\n",
       " 'https://www.meesho.com/stylish-unisex-new-york-design-printed-round-neck-sweatshirt/p/5dzd9p',\n",
       " 'pe.net',\n",
       " 'models.py',\n",
       " 'app.py',\n",
       " 'https://quizpractice.space/',\n",
       " 'https://www.youtube.com/watch?v=Px6VkIT4riY&list=PLZ2ps__7DhBarYRUJn9ymzaG1ULtUNqVu&index=16',\n",
       " 'https://www.youtube.com/watch?v=wqdNQgDybLg',\n",
       " 'https://youtube.com/shorts/2h6YMXvS0m0?si=RXk_cIctHvGyt4d2',\n",
       " 'https://drive.google.com/file/d/1reCLaan2aUfjcAvgXEFne7j3p1j93ZcQ/view',\n",
       " 'https://youtu.be/QAEU2YzLkfc?si=TrxNKz0jP0f91HnL',\n",
       " 'https://onlinecourses.nptel.ac.in/noc25_cs12/preview',\n",
       " 'https://onlinecourses.nptel.ac.in/noc25_cs11/preview',\n",
       " 'https://docs.google.com/spreadsheets/d/e/2PACX-1vQRfIO7X-GvUiGo3EmWdWSILJyqjeTNfY5WsuC48n6s--tDGYHizlsqjXNfO0qY7yZqONcSEoYBCTkN/pubhtml',\n",
       " 'https://docs.google.com/spreadsheets/d/e/2PACX-1vSGMxCUDKCrmUN9kWeH8Md7sqDYYr4DHnzyOkvQ6I-1tRa8M3gv-Rkrk2B0Ze99a3sTq9bRcUXkXahQ/pubhtml?gid=0&single=true',\n",
       " 'https://docs.google.com/spreadsheets/d/e/2PACX-1vSJXV0JECyoQvgWvBlVxO13G0KRm5a1qNCRBa7rAw8GDY4e0cfm1KiVCwIgs_ed80ObtzQ1rfx_JWIR/pubhtml?gid=399341609&single=true',\n",
       " 'https://docs.google.com/spreadsheets/d/e/2PACX-1vSJXV0JECyoQvgWvBlVxO13G0KRm5a1qNCRBa7rAw8GDY4e0cfm1KiVCwIgs_ed80ObtzQ1rfx_JWIR/pubhtml?gid=1418834182&single=true']"
      ]
     },
     "execution_count": 64,
     "metadata": {},
     "output_type": "execute_result"
    }
   ],
   "source": [
    "links"
   ]
  },
  {
   "cell_type": "code",
   "execution_count": 65,
   "id": "735ee12a-9c4b-417a-bded-2abfa8ffcd62",
   "metadata": {},
   "outputs": [
    {
     "data": {
      "text/plain": [
       "99"
      ]
     },
     "execution_count": 65,
     "metadata": {},
     "output_type": "execute_result"
    }
   ],
   "source": [
    "len(links)"
   ]
  },
  {
   "cell_type": "code",
   "execution_count": null,
   "id": "9c416b5b-879e-44e7-8696-d5515955291c",
   "metadata": {},
   "outputs": [],
   "source": []
  }
 ],
 "metadata": {
  "kernelspec": {
   "display_name": "Python 3 (ipykernel)",
   "language": "python",
   "name": "python3"
  },
  "language_info": {
   "codemirror_mode": {
    "name": "ipython",
    "version": 3
   },
   "file_extension": ".py",
   "mimetype": "text/x-python",
   "name": "python",
   "nbconvert_exporter": "python",
   "pygments_lexer": "ipython3",
   "version": "3.11.9"
  }
 },
 "nbformat": 4,
 "nbformat_minor": 5
}
